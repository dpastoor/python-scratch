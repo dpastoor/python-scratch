{
 "metadata": {
  "name": "",
  "signature": "sha256:c627e06c4e689dbbb6da136c786dfc35b2edd227e598cd3f2c87295e32052882"
 },
 "nbformat": 3,
 "nbformat_minor": 0,
 "worksheets": [
  {
   "cells": [
    {
     "cell_type": "code",
     "collapsed": false,
     "input": [
      "import re"
     ],
     "language": "python",
     "metadata": {},
     "outputs": [],
     "prompt_number": 3
    },
    {
     "cell_type": "code",
     "collapsed": false,
     "input": [
      "f = open('nonmem_sim_small.vpc', 'r')"
     ],
     "language": "python",
     "metadata": {},
     "outputs": [],
     "prompt_number": 4
    },
    {
     "cell_type": "code",
     "collapsed": false,
     "input": [
      "fl = f.readlines()"
     ],
     "language": "python",
     "metadata": {},
     "outputs": [],
     "prompt_number": 32
    },
    {
     "cell_type": "code",
     "collapsed": false,
     "input": [
      "fl"
     ],
     "language": "python",
     "metadata": {},
     "outputs": [
      {
       "metadata": {},
       "output_type": "pyout",
       "prompt_number": 33,
       "text": [
        "['TABLE NO.  2\\n',\n",
        " ' ID          REP         TIME        DV          EVID        AMT         DOSE        FORM        SEX         WT          AGE         RNUM        IPRED\\n',\n",
        " '  1.0000E+00  1.0000E+00  0.0000E+00  0.0000E+00  1.0000E+00  1.0000E+02  1.0000E+02  0.0000E+00  1.0000E+00  5.6800E+01  2.8000E+01  2.0000E+00  1.3283E+03\\n',\n",
        " '  1.0000E+00  1.0000E+00  2.5000E-01  1.3273E+03  0.0000E+00  0.0000E+00  1.0000E+02  0.0000E+00  1.0000E+00  5.6800E+01  2.8000E+01  2.0000E+00  1.2945E+03\\n',\n",
        " '  1.0000E+00  1.0000E+00  5.0000E-01  1.2327E+03  0.0000E+00  0.0000E+00  1.0000E+02  0.0000E+00  1.0000E+00  5.6800E+01  2.8000E+01  2.0000E+00  1.2615E+03 \\n',\n",
        " '  TABLE NO.  2\\n',\n",
        " ' ID          REP         TIME        DV          EVID        AMT         DOSE        FORM        SEX         WT          AGE         RNUM        IPRED\\n',\n",
        " '  1.0000E+00  1.0000E+00  0.0000E+00  0.0000E+00  1.0000E+00  1.0000E+02  1.0000E+02  0.0000E+00  1.0000E+00  5.6800E+01  2.8000E+01  2.0000E+00  1.3283E+03\\n',\n",
        " '  1.0000E+00  1.0000E+00  2.5000E-01  1.3273E+03  0.0000E+00  0.0000E+00  1.0000E+02  0.0000E+00  1.0000E+00  5.6800E+01  2.8000E+01  2.0000E+00  1.2945E+03\\n',\n",
        " '  1.0000E+00  1.0000E+00  5.0000E-01  1.2327E+03  0.0000E+00  0.0000E+00  1.0000E+02  0.0000E+00  1.0000E+00  5.6800E+01  2.8000E+01  2.0000E+00  1.2615E+03 \\n',\n",
        " 'TABLE NO.  2\\n',\n",
        " ' ID          REP         TIME        DV          EVID        AMT         DOSE        FORM        SEX         WT          AGE         RNUM        IPRED\\n',\n",
        " '  1.0000E+00  1.0000E+00  0.0000E+00  0.0000E+00  1.0000E+00  1.0000E+02  1.0000E+02  0.0000E+00  1.0000E+00  5.6800E+01  2.8000E+01  2.0000E+00  1.3283E+03\\n',\n",
        " '  1.0000E+00  1.0000E+00  2.5000E-01  1.3273E+03  0.0000E+00  0.0000E+00  1.0000E+02  0.0000E+00  1.0000E+00  5.6800E+01  2.8000E+01  2.0000E+00  1.2945E+03\\n',\n",
        " '  1.0000E+00  1.0000E+00  5.0000E-01  1.2327E+03  0.0000E+00  0.0000E+00  1.0000E+02  0.0000E+00  1.0000E+00  5.6800E+01  2.8000E+01  2.0000E+00  1.2615E+03 \\n',\n",
        " '\\n']"
       ]
      }
     ],
     "prompt_number": 33
    },
    {
     "cell_type": "code",
     "collapsed": false,
     "input": [
      "colnames = ['ID', 'TIME', 'DV', 'AMT', 'DOSE']\n",
      "with open('nonmem_sim_small.vpc') as old, open('parsed_nss.vpc', 'w') as new:\n",
      "    # write the column names once\n",
      "    for line in old:\n",
      "        if any(name in line for name in colnames):\n",
      "            l = line.lstrip()\n",
      "            l = re.sub(r'\\s+', ',', l)\n",
      "            l = l[:-1]\n",
      "            l += '\\n'\n",
      "            new.write(l)\n",
      "            break\n",
      "    colnames.append('TABLE')\n",
      "    for line in old:\n",
      "        if not any(name in line for name in colnames):\n",
      "            l = line.lstrip()\n",
      "            l = re.sub(r'\\s+', ',', l)\n",
      "            l = l[:-1]\n",
      "            l += '\\n'\n",
      "            new.write(l)"
     ],
     "language": "python",
     "metadata": {},
     "outputs": [],
     "prompt_number": 58
    },
    {
     "cell_type": "code",
     "collapsed": false,
     "input": [
      "def parse_nm():\n",
      "    colnames = ['ID', 'TIME', 'DV', 'AMT', 'DOSE']\n",
      "    with open('/Users/devin/Repos/misc-datasets/nonmem_sim.vpc') as old, open('big_parsed_nss.vpc', 'w') as new:\n",
      "        # write the column names once\n",
      "        for line in old:\n",
      "            if any(name in line for name in colnames):\n",
      "                l = line.lstrip()\n",
      "                l = re.sub(r'\\s+', ',', l)\n",
      "                l = l[:-1]\n",
      "                l += '\\n'\n",
      "                new.write(l)\n",
      "                break\n",
      "        colnames.append('TABLE')\n",
      "        for line in old:\n",
      "            if not any(name in line for name in colnames):\n",
      "                l = line.lstrip()\n",
      "                l = l.replace(\"  \", \",\")\n",
      "                new.write(l)\n",
      "    print(\"parsed!\")\n",
      "    return(True)"
     ],
     "language": "python",
     "metadata": {},
     "outputs": [],
     "prompt_number": 5
    },
    {
     "cell_type": "code",
     "collapsed": false,
     "input": [
      "import timeit\n",
      "%timeit parse_nm()"
     ],
     "language": "python",
     "metadata": {},
     "outputs": [
      {
       "output_type": "stream",
       "stream": "stdout",
       "text": [
        "parsed!\n",
        "parsed!"
       ]
      },
      {
       "output_type": "stream",
       "stream": "stdout",
       "text": [
        "\n",
        "parsed!"
       ]
      },
      {
       "output_type": "stream",
       "stream": "stdout",
       "text": [
        "\n",
        "parsed!"
       ]
      },
      {
       "output_type": "stream",
       "stream": "stdout",
       "text": [
        "\n",
        "1 loops, best of 3: 413 ms per loop\n"
       ]
      }
     ],
     "prompt_number": 6
    },
    {
     "cell_type": "code",
     "collapsed": false,
     "input": [],
     "language": "python",
     "metadata": {},
     "outputs": []
    }
   ],
   "metadata": {}
  }
 ]
}