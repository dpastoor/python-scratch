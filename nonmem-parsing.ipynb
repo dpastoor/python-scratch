{
 "metadata": {
  "name": "",
  "signature": "sha256:1317d877c72165d3696618f0bb50b2918b9e6c62082c89bd902a27e8cf427ace"
 },
 "nbformat": 3,
 "nbformat_minor": 0,
 "worksheets": [
  {
   "cells": [
    {
     "cell_type": "code",
     "collapsed": false,
     "input": [],
     "language": "python",
     "metadata": {},
     "outputs": [
      {
       "output_type": "stream",
       "stream": "stdout",
       "text": [
        "3.4.2 |Continuum Analytics, Inc.| (default, Oct 21 2014, 17:42:20) \n",
        "[GCC 4.2.1 (Apple Inc. build 5577)]\n"
       ]
      }
     ],
     "prompt_number": 2
    },
    {
     "cell_type": "code",
     "collapsed": false,
     "input": [],
     "language": "python",
     "metadata": {},
     "outputs": []
    }
   ],
   "metadata": {}
  }
 ]
}